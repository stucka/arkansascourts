{
 "cells": [
  {
   "cell_type": "code",
   "execution_count": 1,
   "metadata": {
    "collapsed": true,
    "deletable": true,
    "editable": true
   },
   "outputs": [],
   "source": [
    "from collections import OrderedDict\n",
    "import csv\n",
    "import datetime\n",
    "import os\n",
    "\n",
    "from tqdm import tqdm as tqdm\n",
    "import requests\n",
    "from pyquery import PyQuery as pq"
   ]
  },
  {
   "cell_type": "code",
   "execution_count": null,
   "metadata": {
    "collapsed": true
   },
   "outputs": [],
   "source": [
    "docketpre = \"./dockets/\"\n",
    "docketpost = \".html\"\n",
    "# docketurlbase = \"https://caseinfo.aoc.arkansas.gov/cconnect/PROD/public/ck_public_qry_doct.cp_dktrpt_frames?backto=C&case_id=\"\n",
    "docketurlbase = \"https://caseinfo.aoc.arkansas.gov/cconnect/PROD/public/ck_public_qry_doct.cp_dktrpt_docket_report?backto=C&case_id=\"\n"
   ]
  },
  {
   "cell_type": "code",
   "execution_count": null,
   "metadata": {
    "collapsed": false,
    "deletable": true,
    "editable": true
   },
   "outputs": [],
   "source": [
    "# searchpage = \"https://caseinfo.aoc.arkansas.gov/cconnect/PROD/public/ck_public_qry_doct.cp_dktrpt_new_case_report?backto=C&case_id=&begin_date=01/01/2010&end_date=11/09/2017&county_code=ALL&cort_code=ALL&locn_code=ALL&case_type=CD%20-%20CONDEMNATION/EMINENT%20DOMAIN&docket_code=\"\n",
    "# r = requests.get(searchpage)\n",
    "# searchhtml = r.content\n",
    "\n",
    "# Yeah, this is having certificate problems. OK. Moving on, here's a manual save:\n",
    "with open('caseindex.html', \"r\") as caseindex:\n",
    "    searchhtml = caseindex.read()"
   ]
  },
  {
   "cell_type": "code",
   "execution_count": null,
   "metadata": {
    "collapsed": false,
    "deletable": true,
    "editable": true
   },
   "outputs": [],
   "source": [
    "masterlist = []\n",
    "for row in pq(searchhtml)(\"tr\")[1:]:  # Skip first row, start with the real data\n",
    "    rr = OrderedDict()\n",
    "    rr['casenumber'] = pq(pq(row)(\"td\")[1])(\"a\").text()\n",
    "    rr['dateraw'] = pq(row)(\"td\")[0].text\n",
    "    myyear = rr['dateraw'][-2:]\n",
    "    if myyear > \"50\":\n",
    "        myyear = \"19\" + myyear\n",
    "    else:\n",
    "        myyear = \"20\" + myyear\n",
    "    myday = rr['dateraw'][:2]   \n",
    "    mymonth = datetime.datetime.strptime(rr['dateraw'], '%d-%b-%y').month\n",
    "    rr['dateclean'] = myyear + \"-\" + str(mymonth) + \"-\" + myday\n",
    "    rr['caseurl'] = pq(pq(row)(\"td\")[1])(\"a\").attr('href')\n",
    "    rr['casetitle'] = pq(pq(row)(\"td\")[1]).contents()[1].strip()\n",
    "    rr['casetype'] = pq(row)(\"td\")[2].text.strip()\n",
    "    rr['casejudge'] = pq(row)(\"td\")[3].text\n",
    "    rr['casecourt'] = pq(row)(\"td\")[4].text.strip()\n",
    "    masterlist.append(rr)   "
   ]
  },
  {
   "cell_type": "code",
   "execution_count": null,
   "metadata": {
    "collapsed": false,
    "deletable": true,
    "editable": true
   },
   "outputs": [],
   "source": [
    "keys = rr.keys()"
   ]
  },
  {
   "cell_type": "code",
   "execution_count": null,
   "metadata": {
    "collapsed": false,
    "deletable": true,
    "editable": true
   },
   "outputs": [],
   "source": [
    "with open('caseindexexport.csv', 'w', newline='') as f:\n",
    "    writer = csv.writer(f)\n",
    "    writer.writerow(keys)\n",
    "    for rr in masterlist:\n",
    "        writer.writerow(rr.values())"
   ]
  },
  {
   "cell_type": "code",
   "execution_count": null,
   "metadata": {
    "collapsed": false,
    "deletable": true,
    "editable": true
   },
   "outputs": [],
   "source": [
    "needtodownload = []\n",
    "for rr in masterlist:\n",
    "    casenumber = rr['casenumber']\n",
    "    docketfile = docketpre + casenumber + docketpost\n",
    "    if not os.path.isfile(docketfile):\n",
    "        needtodownload.append(casenumber)"
   ]
  },
  {
   "cell_type": "code",
   "execution_count": null,
   "metadata": {
    "collapsed": false
   },
   "outputs": [],
   "source": [
    "if len(needtodownload) > 0:\n",
    "    print(\"We need to download \" + str(len(needtodownload)) + \" docket files.\")\n",
    "    for casenumber in tqdm(needtodownload):\n",
    "        docketfile = docketpre + casenumber + docketpost\n",
    "        targeturl = docketurlbase + casenumber\n",
    "        with open(docketfile, \"wb\") as f:\n",
    "            f.write(requests.get(targeturl, verify=False).content)   # verify=False to cope with weird SSL certificate"
   ]
  },
  {
   "cell_type": "code",
   "execution_count": null,
   "metadata": {
    "collapsed": true
   },
   "outputs": [],
   "source": []
  }
 ],
 "metadata": {
  "kernelspec": {
   "display_name": "Python 3",
   "language": "python",
   "name": "python3"
  },
  "language_info": {
   "codemirror_mode": {
    "name": "ipython",
    "version": 3
   },
   "file_extension": ".py",
   "mimetype": "text/x-python",
   "name": "python",
   "nbconvert_exporter": "python",
   "pygments_lexer": "ipython3",
   "version": "3.6.1"
  }
 },
 "nbformat": 4,
 "nbformat_minor": 2
}
